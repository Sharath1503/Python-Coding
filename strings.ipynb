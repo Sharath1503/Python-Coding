{
 "cells": [
  {
   "cell_type": "code",
   "execution_count": 3,
   "id": "d8616ae4",
   "metadata": {},
   "outputs": [
    {
     "name": "stdout",
     "output_type": "stream",
     "text": [
      "apple banana This is \n",
      "        Chocolate \n",
      "        Cake date\n"
     ]
    }
   ],
   "source": [
    "a = 'apple'\n",
    "b = \"banana\"\n",
    "c = '''This is \n",
    "        Chocolate \n",
    "        Cake'''\n",
    "d = \"\"\"date\"\"\"\n",
    "print(a,b,c,d)"
   ]
  },
  {
   "cell_type": "code",
   "execution_count": 2,
   "id": "b43f2f29",
   "metadata": {},
   "outputs": [
    {
     "name": "stdout",
     "output_type": "stream",
     "text": [
      "10 <class 'str'>\n",
      "['apple', 'banana', 'cherry'] <class 'str'>\n"
     ]
    }
   ],
   "source": [
    "#Typecasting\n",
    "x = str(10)\n",
    "y = str([\"apple\", \"banana\", \"cherry\"])\n",
    "print(x, type(x))\n",
    "print(y, type(y))"
   ]
  },
  {
   "cell_type": "code",
   "execution_count": 6,
   "id": "cbaead35",
   "metadata": {},
   "outputs": [
    {
     "name": "stdout",
     "output_type": "stream",
     "text": [
      "a\n"
     ]
    }
   ],
   "source": [
    "#Slicing & Indexing\n",
    "a = 'apple'\n",
    "print(a[0])"
   ]
  },
  {
   "cell_type": "code",
   "execution_count": 11,
   "id": "a0bbfe15",
   "metadata": {},
   "outputs": [
    {
     "name": "stdout",
     "output_type": "stream",
     "text": [
      "the point is, I am not disappointed\n"
     ]
    }
   ],
   "source": [
    "x = 'disappointed'\n",
    "y = x[5:10]\n",
    "print(f\"the {y} is, I am not {x}\")"
   ]
  },
  {
   "cell_type": "code",
   "execution_count": null,
   "id": "ab936e3f",
   "metadata": {},
   "outputs": [
    {
     "name": "stdout",
     "output_type": "stream",
     "text": [
      " Johnny Johnny yes papa\n"
     ]
    }
   ],
   "source": [
    "poem = ''' Johnny Johnny yes papa\n",
    "            Eating Sugar no papa\n",
    "            Telling lies no papa\n",
    "            Open your Mouth HA HA HA '''\n",
    "x = poem[:23]\n",
    "print(x)\n",
    "\n"
   ]
  },
  {
   "cell_type": "code",
   "execution_count": 14,
   "id": "0f7b53c7",
   "metadata": {},
   "outputs": [
    {
     "name": "stdout",
     "output_type": "stream",
     "text": [
      "maintain silence in library\n",
      "Maintain Silence In Library\n",
      "maintain silence in library\n",
      "MAINTAIN SILENCE IN LIBRARY\n",
      "Maintain silence in library\n",
      "mAINTAIN sILENCE IN lIBRARY\n"
     ]
    }
   ],
   "source": [
    "#Functions in Strings\n",
    "#formatting\n",
    "s = \"Maintain Silence in Library\"\n",
    "supper = s.upper()\n",
    "lower = s.lower()\n",
    "cap = s.capitalize()\n",
    "title = s.title()\n",
    "swap = s.swapcase()\n",
    "casefold = s.casefold()\n",
    "print(casefold)\n",
    "print(title)\n",
    "print(lower)\n",
    "print(supper)\n",
    "print(cap)\n",
    "print(swap)\n",
    "\n"
   ]
  },
  {
   "cell_type": "code",
   "execution_count": null,
   "id": "22aad5a5",
   "metadata": {},
   "outputs": [
    {
     "name": "stdout",
     "output_type": "stream",
     "text": [
      "Seven     \n",
      "Seven***************\n",
      "     Seven\n",
      "###############Seven\n",
      "       Seven        \n",
      "$$$$$$$$$$$$Seven$$$$$$$$$$$$$\n"
     ]
    }
   ],
   "source": [
    "#Formatting\n",
    "a = \"Seven\"\n",
    "al = a.ljust(10)\n",
    "a2 = a.ljust(20,'*')\n",
    "ar = a.rjust(10)\n",
    "ar1 = a.rjust(20,'#')\n",
    "ac = a.center(20)\n",
    "ac1 = a.center(30,'$')\n",
    "print(al,a2,ar,ar1,ac,ac1,sep=\"\\n\")\n",
    "\n"
   ]
  },
  {
   "cell_type": "code",
   "execution_count": 35,
   "id": "38296384",
   "metadata": {},
   "outputs": [
    {
     "name": "stdout",
     "output_type": "stream",
     "text": [
      "False\n",
      "False\n",
      "False\n",
      "False\n"
     ]
    }
   ],
   "source": [
    "#validation\n",
    "x = input(\"Enter something: \")\n",
    "print(x.isalpha())\n",
    "print(x.isalnum())\n",
    "print(x.isdigit())\n",
    "print(x.isspace())\n"
   ]
  },
  {
   "cell_type": "code",
   "execution_count": 42,
   "id": "2045bfb0",
   "metadata": {},
   "outputs": [
    {
     "name": "stdout",
     "output_type": "stream",
     "text": [
      "True\n",
      "False\n",
      "True\n",
      "1\n"
     ]
    }
   ],
   "source": [
    "s = input(\"Enter something: \")\n",
    "s1 = s.startswith(\"a\")\n",
    "s2 = s.startswith(\"Hello\")\n",
    "s3 = s.endswith(\"Hello\")\n",
    "s4 = s.find(\"Hello\")\n",
    "print(s1,s2,s3,s4, sep=\"\\n\")"
   ]
  }
 ],
 "metadata": {
  "kernelspec": {
   "display_name": "Python 3",
   "language": "python",
   "name": "python3"
  },
  "language_info": {
   "codemirror_mode": {
    "name": "ipython",
    "version": 3
   },
   "file_extension": ".py",
   "mimetype": "text/x-python",
   "name": "python",
   "nbconvert_exporter": "python",
   "pygments_lexer": "ipython3",
   "version": "3.13.7"
  }
 },
 "nbformat": 4,
 "nbformat_minor": 5
}
