{
 "cells": [
  {
   "cell_type": "code",
   "execution_count": null,
   "id": "bf37d620",
   "metadata": {},
   "outputs": [],
   "source": [
    "class Bottle:\n",
    "    color = \"\"\n",
    "    height = \"\"\n",
    "    size = \"\"\n",
    "    shape = \"\"\n",
    "    cap = \"\"\n",
    "    material = \"\"\n",
    "    qualities = \"\"\n",
    "    volume = \"\"\n",
    "    price = 0\n",
    "    brand = \"\"\n",
    "    "
   ]
  },
  {
   "cell_type": "code",
   "execution_count": 3,
   "id": "170abc42",
   "metadata": {},
   "outputs": [
    {
     "name": "stdout",
     "output_type": "stream",
     "text": [
      "<class '__main__.Polygon'>\n",
      "<__main__.Polygon object at 0x000001D3A93CC590>\n",
      "1\n",
      "3\n"
     ]
    }
   ],
   "source": [
    "class Polygon:\n",
    "    side = 1         # attribute or class variable or field or property  \n",
    "    \n",
    "triangle = Polygon() # object creation\n",
    "triangle.side = 3    # setting attribute value\n",
    "\n",
    "print(Polygon)\n",
    "print(triangle)\n",
    "print(Polygon.side)\n",
    "print(triangle.side)\n"
   ]
  },
  {
   "cell_type": "code",
   "execution_count": 3,
   "id": "703958b5",
   "metadata": {},
   "outputs": [
    {
     "name": "stdout",
     "output_type": "stream",
     "text": [
      "Student Details:\n",
      "Sharath 60 MCA\n"
     ]
    }
   ],
   "source": [
    "class Student:\n",
    "    name = \"Sharath\"\n",
    "    roll_no = 60\n",
    "    course = \"MCA\"\n",
    "\n",
    "s1 = Student()\n",
    "print(\"Student Details:\")\n",
    "print(s1.name, s1.roll_no, s1.course)"
   ]
  },
  {
   "cell_type": "code",
   "execution_count": 4,
   "id": "51ffd383",
   "metadata": {},
   "outputs": [
    {
     "name": "stdout",
     "output_type": "stream",
     "text": [
      "Employee Details:\n",
      "Ravi Kumar EMP567 35000\n"
     ]
    }
   ],
   "source": [
    "class Employee:\n",
    "    name = \"Ravi Kumar\"\n",
    "    emp_id = \"EMP567\"\n",
    "    salary = 35000\n",
    "    \n",
    "e1 = Employee()\n",
    "print(\"Employee Details:\")\n",
    "print(e1.name, e1.emp_id, e1.salary)"
   ]
  },
  {
   "cell_type": "code",
   "execution_count": null,
   "id": "2428b462",
   "metadata": {},
   "outputs": [],
   "source": [
    "class TV:\n",
    "    brand = \"Samsung\"\n",
    "    size = 43\n",
    "    price = 35000\n",
    "    \n",
    "t1 = TV()\n",
    "print(\"TV Details:\")\n",
    "print(t1.brand, t1.size, t1.price)"
   ]
  },
  {
   "cell_type": "code",
   "execution_count": null,
   "id": "bb0bcc4e",
   "metadata": {},
   "outputs": [],
   "source": [
    "class Laptop:\n",
    "    brand = \"HP\"\n",
    "    processor = \"Intel i5\"\n",
    "    ram = 16\n",
    "    price = 60000\n",
    "\n",
    "l1 = Laptop()\n",
    "print(\"Laptop Details:\")\n",
    "print(l1.brand, l1.processor, l1.ram, l1.price)"
   ]
  },
  {
   "cell_type": "code",
   "execution_count": null,
   "id": "e92862ff",
   "metadata": {},
   "outputs": [],
   "source": [
    "class Fridge:\n",
    "    brand = \"LG\"\n",
    "    capacity = 250\n",
    "    energy_rating = 4\n",
    "    price = 27000\n",
    "\n",
    "f1 = Fridge()\n",
    "print(\"Fridge Details:\")\n",
    "print(f1.brand, f1.capacity, f1.energy_rating, f1.price)"
   ]
  }
 ],
 "metadata": {
  "kernelspec": {
   "display_name": "Python 3",
   "language": "python",
   "name": "python3"
  },
  "language_info": {
   "codemirror_mode": {
    "name": "ipython",
    "version": 3
   },
   "file_extension": ".py",
   "mimetype": "text/x-python",
   "name": "python",
   "nbconvert_exporter": "python",
   "pygments_lexer": "ipython3",
   "version": "3.13.7"
  }
 },
 "nbformat": 4,
 "nbformat_minor": 5
}
