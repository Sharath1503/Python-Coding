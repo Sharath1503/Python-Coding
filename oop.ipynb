{
 "cells": [
  {
   "cell_type": "code",
   "execution_count": 41,
   "id": "bf37d620",
   "metadata": {},
   "outputs": [],
   "source": [
    "class Bottle:\n",
    "    color = \"\"\n",
    "    height = \"\"\n",
    "    size = \"\"\n",
    "    shape = \"\"\n",
    "    cap = \"\"\n",
    "    material = \"\"\n",
    "    qualities = \"\"\n",
    "    volume = \"\"\n",
    "    price = 0\n",
    "    brand = \"\"\n",
    "    "
   ]
  },
  {
   "cell_type": "code",
   "execution_count": 42,
   "id": "170abc42",
   "metadata": {},
   "outputs": [
    {
     "name": "stdout",
     "output_type": "stream",
     "text": [
      "<class '__main__.Polygon'>\n",
      "<__main__.Polygon object at 0x0000026581311010>\n",
      "1\n",
      "3\n"
     ]
    }
   ],
   "source": [
    "class Polygon:\n",
    "    side = 1         # attribute or class variable or field or property  \n",
    "    \n",
    "triangle = Polygon() # object creation\n",
    "triangle.side = 3    # setting attribute value\n",
    "\n",
    "print(Polygon)\n",
    "print(triangle)\n",
    "print(Polygon.side)\n",
    "print(triangle.side)\n"
   ]
  },
  {
   "cell_type": "code",
   "execution_count": 43,
   "id": "703958b5",
   "metadata": {},
   "outputs": [
    {
     "name": "stdout",
     "output_type": "stream",
     "text": [
      "Student Details:\n",
      "Sharath 60 MCA\n"
     ]
    }
   ],
   "source": [
    "class Student:\n",
    "    name = \"Sharath\"\n",
    "    roll_no = 60\n",
    "    course = \"MCA\"\n",
    "\n",
    "s1 = Student()\n",
    "print(\"Student Details:\")\n",
    "print(s1.name, s1.roll_no, s1.course)"
   ]
  },
  {
   "cell_type": "code",
   "execution_count": 44,
   "id": "51ffd383",
   "metadata": {},
   "outputs": [
    {
     "name": "stdout",
     "output_type": "stream",
     "text": [
      "Employee Details:\n",
      "Ravi Kumar EMP567 35000 IT\n"
     ]
    }
   ],
   "source": [
    "class Employee:\n",
    "    name = \"Ravi Kumar\"\n",
    "    emp_id = \"EMP567\"\n",
    "    salary = 35000\n",
    "    dept = \"IT\"\n",
    "    \n",
    "e1 = Employee()\n",
    "print(\"Employee Details:\")\n",
    "print(e1.name, e1.emp_id, e1.salary, e1.dept)"
   ]
  },
  {
   "cell_type": "code",
   "execution_count": 45,
   "id": "2428b462",
   "metadata": {},
   "outputs": [
    {
     "name": "stdout",
     "output_type": "stream",
     "text": [
      "TV Details:\n",
      "Samsung 43 35000\n"
     ]
    }
   ],
   "source": [
    "class TV:\n",
    "    brand = \"Samsung\"\n",
    "    size = 43\n",
    "    price = 35000\n",
    "    \n",
    "t1 = TV()\n",
    "print(\"TV Details:\")\n",
    "print(t1.brand, t1.size, t1.price)"
   ]
  },
  {
   "cell_type": "code",
   "execution_count": 46,
   "id": "bb0bcc4e",
   "metadata": {},
   "outputs": [
    {
     "name": "stdout",
     "output_type": "stream",
     "text": [
      "Laptop Details:\n",
      "HP Intel i5 16 60000\n"
     ]
    }
   ],
   "source": [
    "class Laptop:\n",
    "    brand = \"HP\"\n",
    "    processor = \"Intel i5\"\n",
    "    ram = 16\n",
    "    price = 60000\n",
    "\n",
    "l1 = Laptop()\n",
    "print(\"Laptop Details:\")\n",
    "print(l1.brand, l1.processor, l1.ram, l1.price)"
   ]
  },
  {
   "cell_type": "code",
   "execution_count": 47,
   "id": "e92862ff",
   "metadata": {},
   "outputs": [
    {
     "name": "stdout",
     "output_type": "stream",
     "text": [
      "Fridge Details:\n",
      "LG 250 4 27000\n"
     ]
    }
   ],
   "source": [
    "class Fridge:\n",
    "    brand = \"LG\"\n",
    "    capacity = 250\n",
    "    energy_rating = 4\n",
    "    price = 27000\n",
    "\n",
    "f1 = Fridge()\n",
    "print(\"Fridge Details:\")\n",
    "print(f1.brand, f1.capacity, f1.energy_rating, f1.price)"
   ]
  },
  {
   "cell_type": "markdown",
   "id": "0672c714",
   "metadata": {},
   "source": [
    "### NO Constructor "
   ]
  },
  {
   "cell_type": "code",
   "execution_count": 48,
   "id": "13e21ae8",
   "metadata": {},
   "outputs": [],
   "source": [
    "class Area:\n",
    "     len = 0\n",
    "     brd = 0\n",
    "     def calc(self):\n",
    "         ans = self.len * self.brd\n",
    "         return ans"
   ]
  },
  {
   "cell_type": "markdown",
   "id": "ffb47bc5",
   "metadata": {},
   "source": [
    "### Constructor Example"
   ]
  },
  {
   "cell_type": "code",
   "execution_count": 49,
   "id": "50a86eb6",
   "metadata": {},
   "outputs": [],
   "source": [
    "class Area2:\n",
    "    def __init__(self, l, b):\n",
    "        self.len = l\n",
    "        self.brd = b\n",
    "    def calc(self):\n",
    "        ans = self.len * self.brd\n",
    "        return ans\n"
   ]
  },
  {
   "cell_type": "code",
   "execution_count": 50,
   "id": "3d91e405",
   "metadata": {},
   "outputs": [
    {
     "name": "stdout",
     "output_type": "stream",
     "text": [
      "5 4 20\n"
     ]
    }
   ],
   "source": [
    "o1 = Area()\n",
    "o1.len = 5\n",
    "o1.brd = 4\n",
    "res1 = o1.calc()\n",
    "print(o1.len, o1.brd, res1)"
   ]
  },
  {
   "cell_type": "code",
   "execution_count": 51,
   "id": "57001d2e",
   "metadata": {},
   "outputs": [
    {
     "name": "stdout",
     "output_type": "stream",
     "text": [
      "5 6 30\n"
     ]
    }
   ],
   "source": [
    "o2 = Area()\n",
    "o2.len = 5\n",
    "o2.brd = 6\n",
    "res2 = o2.calc()\n",
    "print(o2.len, o2.brd, res2)"
   ]
  },
  {
   "cell_type": "code",
   "execution_count": 52,
   "id": "ba885c59",
   "metadata": {},
   "outputs": [
    {
     "name": "stdout",
     "output_type": "stream",
     "text": [
      "7 8 56\n"
     ]
    }
   ],
   "source": [
    "o3 = Area()\n",
    "o3.len = 7\n",
    "o3.brd = 8\n",
    "res3 = o3.calc()\n",
    "print(o3.len, o3.brd, res3)"
   ]
  },
  {
   "cell_type": "code",
   "execution_count": 54,
   "id": "e50edd8b",
   "metadata": {},
   "outputs": [
    {
     "name": "stdout",
     "output_type": "stream",
     "text": [
      "5 4 20\n"
     ]
    }
   ],
   "source": [
    "o4 = Area2(5,4)\n",
    "print(o4.len, o4.brd, o4.calc())"
   ]
  }
 ],
 "metadata": {
  "kernelspec": {
   "display_name": "Python 3",
   "language": "python",
   "name": "python3"
  },
  "language_info": {
   "codemirror_mode": {
    "name": "ipython",
    "version": 3
   },
   "file_extension": ".py",
   "mimetype": "text/x-python",
   "name": "python",
   "nbconvert_exporter": "python",
   "pygments_lexer": "ipython3",
   "version": "3.13.7"
  }
 },
 "nbformat": 4,
 "nbformat_minor": 5
}
