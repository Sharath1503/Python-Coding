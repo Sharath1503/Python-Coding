{
 "cells": [
  {
   "cell_type": "code",
   "execution_count": null,
   "id": "bf37d620",
   "metadata": {},
   "outputs": [],
   "source": [
    "class Bottle:\n",
    "    color = \"\"\n",
    "    height = \"\"\n",
    "    size = \"\"\n",
    "    shape = \"\"\n",
    "    cap = \"\"\n",
    "    material = \"\"\n",
    "    qualities = \"\"\n",
    "    volume = \"\"\n",
    "    price = 0\n",
    "    brand = \"\"\n",
    "    "
   ]
  },
  {
   "cell_type": "code",
   "execution_count": null,
   "id": "170abc42",
   "metadata": {},
   "outputs": [],
   "source": [
    "class Polygon:\n",
    "    side = 1         # attribute or class variable or field or property  \n",
    "    \n",
    "triangle = Polygon() # object creation\n",
    "triangle.side = 3    # setting attribute value\n",
    "\n",
    "print(Polygon)\n",
    "print(triangle)\n",
    "print(Polygon.side)\n",
    "print(triangle.side)\n"
   ]
  },
  {
   "cell_type": "code",
   "execution_count": null,
   "id": "703958b5",
   "metadata": {},
   "outputs": [],
   "source": [
    "class Student:\n",
    "    name = \"Sharath\"\n",
    "    roll_no = 60\n",
    "    course = \"MCA\"\n",
    "\n",
    "s1 = Student()\n",
    "print(\"Student Details:\")\n",
    "print(s1.name, s1.roll_no, s1.course)"
   ]
  },
  {
   "cell_type": "code",
   "execution_count": null,
   "id": "51ffd383",
   "metadata": {},
   "outputs": [],
   "source": [
    "class Employee:\n",
    "    name = \"Ravi Kumar\"\n",
    "    emp_id = \"EMP567\"\n",
    "    salary = 35000\n",
    "    dept = \"IT\"\n",
    "    \n",
    "e1 = Employee()\n",
    "print(\"Employee Details:\")\n",
    "print(e1.name, e1.emp_id, e1.salary, e1.dept)"
   ]
  },
  {
   "cell_type": "code",
   "execution_count": null,
   "id": "2428b462",
   "metadata": {},
   "outputs": [],
   "source": [
    "class TV:\n",
    "    brand = \"Samsung\"\n",
    "    size = 43\n",
    "    price = 35000\n",
    "    \n",
    "t1 = TV()\n",
    "print(\"TV Details:\")\n",
    "print(t1.brand, t1.size, t1.price)"
   ]
  },
  {
   "cell_type": "code",
   "execution_count": null,
   "id": "bb0bcc4e",
   "metadata": {},
   "outputs": [],
   "source": [
    "class Laptop:\n",
    "    brand = \"HP\"\n",
    "    processor = \"Intel i5\"\n",
    "    ram = 16\n",
    "    price = 60000\n",
    "\n",
    "l1 = Laptop()\n",
    "print(\"Laptop Details:\")\n",
    "print(l1.brand, l1.processor, l1.ram, l1.price)"
   ]
  },
  {
   "cell_type": "code",
   "execution_count": null,
   "id": "e92862ff",
   "metadata": {},
   "outputs": [],
   "source": [
    "class Fridge:\n",
    "    brand = \"LG\"\n",
    "    capacity = 250\n",
    "    energy_rating = 4\n",
    "    price = 27000\n",
    "\n",
    "f1 = Fridge()\n",
    "print(\"Fridge Details:\")\n",
    "print(f1.brand, f1.capacity, f1.energy_rating, f1.price)"
   ]
  },
  {
   "cell_type": "markdown",
   "id": "0672c714",
   "metadata": {},
   "source": [
    "### NO Constructor "
   ]
  },
  {
   "cell_type": "code",
   "execution_count": null,
   "id": "13e21ae8",
   "metadata": {},
   "outputs": [],
   "source": [
    "class Area:\n",
    "     len = 0\n",
    "     brd = 0\n",
    "     def calc(self):\n",
    "         ans = self.len * self.brd\n",
    "         return ans"
   ]
  },
  {
   "cell_type": "markdown",
   "id": "ffb47bc5",
   "metadata": {},
   "source": [
    "### Constructor Example"
   ]
  },
  {
   "cell_type": "code",
   "execution_count": null,
   "id": "50a86eb6",
   "metadata": {},
   "outputs": [],
   "source": [
    "class Area2:\n",
    "    def __init__(self, l, b):\n",
    "        self.len = l\n",
    "        self.brd = b\n",
    "    def calc(self):\n",
    "        ans = self.len * self.brd\n",
    "        return ans\n"
   ]
  },
  {
   "cell_type": "code",
   "execution_count": null,
   "id": "3d91e405",
   "metadata": {},
   "outputs": [],
   "source": [
    "o1 = Area()\n",
    "o1.len = 5\n",
    "o1.brd = 4\n",
    "res1 = o1.calc()\n",
    "print(o1.len, o1.brd, res1)"
   ]
  },
  {
   "cell_type": "code",
   "execution_count": null,
   "id": "57001d2e",
   "metadata": {},
   "outputs": [],
   "source": [
    "o2 = Area()\n",
    "o2.len = 5\n",
    "o2.brd = 6\n",
    "res2 = o2.calc()\n",
    "print(o2.len, o2.brd, res2)"
   ]
  },
  {
   "cell_type": "code",
   "execution_count": null,
   "id": "ba885c59",
   "metadata": {},
   "outputs": [],
   "source": [
    "o3 = Area()\n",
    "o3.len = 7\n",
    "o3.brd = 8\n",
    "res3 = o3.calc()\n",
    "print(o3.len, o3.brd, res3)"
   ]
  },
  {
   "cell_type": "code",
   "execution_count": null,
   "id": "e50edd8b",
   "metadata": {},
   "outputs": [],
   "source": [
    "o4 = Area2(5,4)\n",
    "print(o4.len, o4.brd, o4.calc())"
   ]
  },
  {
   "cell_type": "code",
   "execution_count": null,
   "id": "ee3fe03e",
   "metadata": {},
   "outputs": [],
   "source": [
    "class Dog:\n",
    "    def __init__(self, breed, color, age):\n",
    "        self.breed = breed\n",
    "        self.color = color\n",
    "        self.age = age\n",
    "    def show(self):\n",
    "        print(\"Dog Details: \")\n",
    "        print(\"Breed: \", self.breed)\n",
    "        print(\"Color: \", self.color)\n",
    "        print(\"Age: \", self.age)"
   ]
  },
  {
   "cell_type": "code",
   "execution_count": null,
   "id": "9dfef3d4",
   "metadata": {},
   "outputs": [],
   "source": [
    "bruno = Dog('Golden Retreiver', 'Golden', 3)\n",
    "buddy = Dog('Dalmatian', 'Black&White', 5)\n",
    "bittu = Dog('Pitbull', 'Grey', 3)\n",
    "boomer = Dog('Labrador', 'Golden', 4)\n",
    "bruno.show()\n",
    "buddy.show()\n",
    "bittu.show()\n",
    "boomer.show()"
   ]
  },
  {
   "cell_type": "code",
   "execution_count": null,
   "id": "028d0665",
   "metadata": {},
   "outputs": [],
   "source": [
    "doglist = [bruno, buddy, bittu, boomer]\n",
    "# display details of the eldest dogs using if and elif ladder\n",
    "age = 0\n",
    "eldest = None\n",
    "for dog in doglist:\n",
    "    if age < dog.age:\n",
    "        age = dog.age\n",
    "        eldest = dog\n",
    "print(\"Eldest Dog Details:\")\n",
    "eldest.show()"
   ]
  },
  {
   "cell_type": "code",
   "execution_count": null,
   "id": "e2c9505d",
   "metadata": {},
   "outputs": [],
   "source": [
    "# a simple class\n",
    "class Dragon:\n",
    "    def __init__(self, type):\n",
    "        self.type = type\n",
    "\n",
    "#instances\n",
    "water_dragon = Dragon(\"Water\")\n",
    "fire_dragon = Dragon(\"Fire\")\n",
    "ice_dragon = Dragon(\"Ice\")\n",
    "\n",
    "print(\"All Dragons:\")\n",
    "print(f\"1. {water_dragon.type} Dragon\")\n",
    "print(f\"2. {fire_dragon.type} Dragon\")\n",
    "print(f\"3. {ice_dragon.type} Dragon\")"
   ]
  },
  {
   "cell_type": "code",
   "execution_count": null,
   "id": "aef17122",
   "metadata": {},
   "outputs": [],
   "source": [
    "class Pokemon:\n",
    "    def __init__(self, name, type='Normal', hp=10, \n",
    "                 atk=10, dfn=10):\n",
    "        self.name = name\n",
    "        self.type = type\n",
    "        self.hp = hp\n",
    "        self.atk = atk\n",
    "        self.dfn = dfn\n",
    "    def stats(Self):\n",
    "        print(f\"Name: {Self.name}\")\n",
    "        print(f\"Type: {Self.type}\")\n",
    "        print(f\"HP: {Self.hp}\")\n",
    "        print(f\"ATK: {Self.atk}\")\n",
    "        print(f\"DFN: {Self.dfn}\")\n",
    "    \n",
    "    def overall(self):\n",
    "        return self.hp + self.atk + self.dfn\n",
    "\n",
    "    def is_poweful(self):\n",
    "        if self.overall() > 100:\n",
    "            return True\n",
    "        else:\n",
    "            return False\n",
    "    \n",
    "pikcachu = Pokemon(\"Pikachu\", \"Electric\", 35, 55, 40)\n",
    "charizard = Pokemon(\"Charizard\", \"Fire/Flying\", 78, 84, 78)\n",
    "bulbasaur = Pokemon(\"Bulbasaur\", \"Grass/Poison\", 45, 49, 49)\n",
    "snorlax = Pokemon(\"Snorlax\", \"Normal\", 160, 110, 65)\n",
    "ratata = Pokemon(\"Ratata\")\n",
    "\n",
    "pokemons = [pikcachu, charizard, bulbasaur, snorlax, ratata]\n",
    "\n",
    "for poke in pokemons:\n",
    "    poke.stats()\n",
    "    print(f\"Overall Power: {poke.overall()}\")\n",
    "    print(f\"Is Powerful: {poke.is_poweful()}\")\n",
    "    print(\"-------------------------\")"
   ]
  },
  {
   "cell_type": "code",
   "execution_count": 31,
   "id": "843235c9",
   "metadata": {},
   "outputs": [],
   "source": [
    "# simple calc using oop\n",
    "\n",
    "class Calc:\n",
    "    def run(self, num1, operator, num2):\n",
    "        match operator:\n",
    "            case '+': return self.add(num1, num2)\n",
    "            case '-': return self.sub(num1, num2)\n",
    "            case '*': return self.mul(num1, num2)\n",
    "            case '/': return self.div(num1, num2)\n",
    "            \n",
    "    # The below functions are not to be used from object\n",
    "    def add(self, a,b): return a+b\n",
    "    def sub(self, a,b): return a-b\n",
    "    def mul(self, a,b): return a*b\n",
    "    def div(self, a,b): \n",
    "        if b == 0: return \"Cannot be divided by zero\"\n",
    "        return a/b"
   ]
  },
  {
   "cell_type": "code",
   "execution_count": 33,
   "id": "d85ad700",
   "metadata": {},
   "outputs": [
    {
     "name": "stdout",
     "output_type": "stream",
     "text": [
      "3\n"
     ]
    }
   ],
   "source": [
    "# calculator instance\n",
    "res = Calc()\n",
    "while True:\n",
    "    a = int(input(\"Enter first number: \"))\n",
    "    b = int(input(\"Enter second number: \"))\n",
    "    op = input(\"Enter operator (+, -, *, /): \")\n",
    "    \n",
    "    result = res.run(a, op, b)\n",
    "    \n",
    "    print(result)\n",
    "    if input('continue')!= 'y':\n",
    "        break"
   ]
  }
 ],
 "metadata": {
  "kernelspec": {
   "display_name": "Python 3",
   "language": "python",
   "name": "python3"
  },
  "language_info": {
   "codemirror_mode": {
    "name": "ipython",
    "version": 3
   },
   "file_extension": ".py",
   "mimetype": "text/x-python",
   "name": "python",
   "nbconvert_exporter": "python",
   "pygments_lexer": "ipython3",
   "version": "3.13.7"
  }
 },
 "nbformat": 4,
 "nbformat_minor": 5
}
