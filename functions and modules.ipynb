{
 "cells": [
  {
   "cell_type": "code",
   "execution_count": null,
   "id": "9fa2a495",
   "metadata": {},
   "outputs": [],
   "source": [
    "def do(n):\n",
    "    if int(n) % 2 == 0:\n",
    "        print(\"Even\")\n",
    "    else:\n",
    "        print(\"Odd\")\n",
    "n = input(\"Enter value: \")\n",
    "do(n)"
   ]
  },
  {
   "cell_type": "code",
   "execution_count": null,
   "id": "01661c39",
   "metadata": {},
   "outputs": [],
   "source": [
    "def total(a,b,c):\n",
    "    ans = a+b+c\n",
    "    print(f\"Total:{ans}\")\n",
    "total(10,20,30)\n",
    "total(20,30,40)"
   ]
  },
  {
   "cell_type": "code",
   "execution_count": null,
   "id": "ca031a81",
   "metadata": {},
   "outputs": [],
   "source": [
    "def msg():\n",
    "    print(\"Hello\")\n",
    "msg()\n",
    "msg()\n",
    "msg()"
   ]
  },
  {
   "cell_type": "code",
   "execution_count": null,
   "id": "9f83a045",
   "metadata": {},
   "outputs": [],
   "source": [
    "def mul(a,b):\n",
    "    print(a*b)\n",
    "mul(2,3)\n",
    "mul(45,5)\n"
   ]
  },
  {
   "cell_type": "code",
   "execution_count": null,
   "id": "35e3433d",
   "metadata": {},
   "outputs": [],
   "source": [
    "import math\n",
    "def hyp(p,b):\n",
    "    ans = math.sqrt(p**2 + b**2)\n",
    "    return ans\n",
    "hyp(10,5)"
   ]
  },
  {
   "cell_type": "code",
   "execution_count": null,
   "id": "33269640",
   "metadata": {},
   "outputs": [],
   "source": [
    "def is_even(num):\n",
    "    if num % 2 == 0:\n",
    "        return True\n",
    "    else:\n",
    "        return False\n",
    "    \n",
    "is_even(15)"
   ]
  },
  {
   "cell_type": "code",
   "execution_count": null,
   "id": "3b1305fc",
   "metadata": {},
   "outputs": [],
   "source": [
    "x = int(input(\"Enter a number: \"))\n",
    "if is_even(x):\n",
    "    print(f\"even\")\n",
    "else:\n",
    "    print(f\"odd\")"
   ]
  },
  {
   "cell_type": "code",
   "execution_count": null,
   "id": "f1b3b98f",
   "metadata": {},
   "outputs": [],
   "source": [
    "def area(l,b):\n",
    "    return l*b\n",
    "ans = area(10,5)\n",
    "print(ans)"
   ]
  },
  {
   "cell_type": "code",
   "execution_count": null,
   "id": "bfe19808",
   "metadata": {},
   "outputs": [],
   "source": [
    "ans = area() # error - missing 2 required positional arguments"
   ]
  },
  {
   "cell_type": "markdown",
   "id": "ffd07914",
   "metadata": {},
   "source": [
    "## Named Parameter calls"
   ]
  },
  {
   "cell_type": "code",
   "execution_count": null,
   "id": "c7e548ef",
   "metadata": {},
   "outputs": [],
   "source": [
    "res = area(l = 5, b = 10) \n",
    "print(res)"
   ]
  },
  {
   "cell_type": "code",
   "execution_count": null,
   "id": "922b21af",
   "metadata": {},
   "outputs": [],
   "source": [
    "def si(p,r,t):\n",
    "    return (p*r*t)/100\n",
    "interest = si(p=1000,r=5,t=2)\n",
    "print(interest)"
   ]
  },
  {
   "cell_type": "markdown",
   "id": "89a420cc",
   "metadata": {},
   "source": [
    "## default parameters"
   ]
  },
  {
   "cell_type": "code",
   "execution_count": null,
   "id": "66a0e8fd",
   "metadata": {},
   "outputs": [],
   "source": [
    "\n",
    "def power(n=1, e=3):\n",
    "    return n**e\n",
    "print(power(10,4))"
   ]
  },
  {
   "cell_type": "code",
   "execution_count": null,
   "id": "cf0a68e3",
   "metadata": {},
   "outputs": [],
   "source": [
    "def adder(a,b=0,c=0,d=0):\n",
    "    return a+b+c+d\n",
    "print(adder(2))"
   ]
  },
  {
   "cell_type": "code",
   "execution_count": null,
   "id": "5801ee2c",
   "metadata": {},
   "outputs": [],
   "source": [
    "adder(10)"
   ]
  },
  {
   "cell_type": "code",
   "execution_count": null,
   "id": "f456bf86",
   "metadata": {},
   "outputs": [],
   "source": [
    "adder(2,3)"
   ]
  },
  {
   "cell_type": "code",
   "execution_count": null,
   "id": "45c0c385",
   "metadata": {},
   "outputs": [],
   "source": [
    "adder(1,2,3)"
   ]
  },
  {
   "cell_type": "code",
   "execution_count": null,
   "id": "90912410",
   "metadata": {},
   "outputs": [],
   "source": [
    "adder(2,3,4,4)"
   ]
  },
  {
   "cell_type": "code",
   "execution_count": null,
   "id": "12141297",
   "metadata": {},
   "outputs": [],
   "source": [
    "adder(a=1,b=2,c=3,d=2)"
   ]
  },
  {
   "cell_type": "code",
   "execution_count": 28,
   "id": "900745f8",
   "metadata": {},
   "outputs": [
    {
     "name": "stdout",
     "output_type": "stream",
     "text": [
      "71.6\n"
     ]
    }
   ],
   "source": [
    "def ctof(val):\n",
    "    f = (val * 9/5) + 32\n",
    "    return f\n",
    "print(ctof(22))"
   ]
  }
 ],
 "metadata": {
  "kernelspec": {
   "display_name": "Python 3",
   "language": "python",
   "name": "python3"
  },
  "language_info": {
   "codemirror_mode": {
    "name": "ipython",
    "version": 3
   },
   "file_extension": ".py",
   "mimetype": "text/x-python",
   "name": "python",
   "nbconvert_exporter": "python",
   "pygments_lexer": "ipython3",
   "version": "3.13.7"
  }
 },
 "nbformat": 4,
 "nbformat_minor": 5
}
