{
 "cells": [
  {
   "cell_type": "markdown",
   "id": "5a3500ea",
   "metadata": {},
   "source": [
    "## Non returning Non parameterized functions"
   ]
  },
  {
   "cell_type": "code",
   "execution_count": null,
   "id": "9edb906b",
   "metadata": {},
   "outputs": [],
   "source": [
    "# definition\n",
    "def greeting():\n",
    "    print(\"*\" * 5)\n",
    "    print(\"Good Morning\")\n",
    "    print(\"*\" * 5)\n",
    "    \n",
    "# call\n",
    "greeting() # no parameter and no return value\n",
    "    "
   ]
  },
  {
   "cell_type": "markdown",
   "id": "873c7c35",
   "metadata": {},
   "source": [
    "## Value Returning functions"
   ]
  },
  {
   "cell_type": "code",
   "execution_count": null,
   "id": "25b193f8",
   "metadata": {},
   "outputs": [],
   "source": [
    "# non - parameterized value returning function\n",
    "def dice_roll():\n",
    "    import random\n",
    "    out = {1:'1',2:'2', 3:'3', 4:'4', 5:'5', 6:'6'}\n",
    "    value = random.randint(1, 6) # select a random num between 1 - 6\n",
    "    return out.get(value) # return the num from the dict using value\n",
    "\n",
    "# calls\n",
    "print(dice_roll())\n",
    "print(dice_roll())\n",
    "print(dice_roll())\n",
    "print(dice_roll())\n",
    "print(dice_roll())\n",
    "print(dice_roll())\n",
    "print(dice_roll())\n",
    "print(dice_roll())"
   ]
  },
  {
   "cell_type": "code",
   "execution_count": null,
   "id": "e99f12b3",
   "metadata": {},
   "outputs": [],
   "source": [
    "# parameterized value returning function\n",
    "def is_valid_password(pwd):\n",
    "    if len(pwd) < 8: return False\n",
    "    if not pwd.isalnum(): return False\n",
    "    return True\n",
    "print(is_valid_password(\"hello\"))\n",
    "print(is_valid_password(\"helloworld\"))\n",
    "print(is_valid_password(\"helloworld10\"))\n",
    "print(is_valid_password(\"3120@1233\"))"
   ]
  },
  {
   "cell_type": "code",
   "execution_count": null,
   "id": "b7c5de9d",
   "metadata": {},
   "outputs": [],
   "source": [
    "# proper function syntax in python\n",
    "def area(len: int, breadth: int)-> int:\n",
    "    return len * breadth\n",
    "print(area(12, 12))\n",
    "\n",
    "l = 12\n",
    "b = 15\n",
    "a = area(l,b)\n",
    "print(f'area = {a}')"
   ]
  },
  {
   "cell_type": "code",
   "execution_count": null,
   "id": "a8145aa0",
   "metadata": {},
   "outputs": [],
   "source": [
    "# default args\n",
    "def cleanText(data, to_remove=\"@$#%\"):\n",
    "    newdata = data                           # make a copy of data\n",
    "    for char in to_remove:                   # loop of each char to remove\n",
    "        newdata = newdata.replace(char, '')  # use replace to remove char\n",
    "    return newdata                           # return new data\n",
    "cText = cleanText(\"he#ll#o@\")                # default chars used for removing\n",
    "print(cText)\n",
    "cText2 = cleanText(\"H@!()#!)@i\", to_remove='@!#()') # updated chars\n",
    "print(cText2)\n",
    "        "
   ]
  },
  {
   "cell_type": "markdown",
   "id": "be58e4dc",
   "metadata": {},
   "source": [
    "## Variable Arguments in python\n",
    "A function can have variable arguments in python using * symbol befofe a parameter in the function definition. This allows the function to accept any number of positional arguments as a tuple."
   ]
  },
  {
   "cell_type": "code",
   "execution_count": null,
   "id": "4c69becd",
   "metadata": {},
   "outputs": [],
   "source": [
    "# a function that multiplies n parameters\n",
    "def multiplier(*numbers):\n",
    "    result = 1              # variable to hold total\n",
    "    for value in numbers:   # loop to get value from numbers\n",
    "        result *= value     # multiply value with result and save\n",
    "    return result           # retun result\n",
    "\n",
    "print(multiplier())         # no value\n",
    "print(multiplier(2,3,4))    # with few arguments\n",
    "print(multiplier(2,3,4,3,2,2,3,4)) # with many arguents\n",
    "\n"
   ]
  },
  {
   "cell_type": "code",
   "execution_count": null,
   "id": "6ed148fa",
   "metadata": {},
   "outputs": [],
   "source": [
    "def operate(*args, operator=\"*\"):\n",
    "    if operator == \"*\":\n",
    "        result = 1\n",
    "        for num in args:\n",
    "            result *= num\n",
    "        return result\n",
    "    elif operator == '+':\n",
    "        result = 0\n",
    "        for num in args:\n",
    "            result += num\n",
    "        return result\n",
    "    else:\n",
    "        return \"Incorrect operator, please use + or * \"\n",
    "\n",
    "print(operate(1,2,3))\n",
    "print(operate(1,2,3,4, operator=\"+\"))\n",
    "\n",
    "\n"
   ]
  },
  {
   "cell_type": "markdown",
   "id": "ce9b4d1f",
   "metadata": {},
   "source": [
    "## Anonymous functions in Python\n",
    "Anonymous functions, alos known as lambda functions, are small, unnamed functions defined using the lambda keyword"
   ]
  },
  {
   "cell_type": "code",
   "execution_count": null,
   "id": "f1bfde87",
   "metadata": {},
   "outputs": [],
   "source": [
    "f = lambda x: x*2 + 10  # x is a parameter here\n",
    "print(f)                # shows the memory address (not to be used actually)\n",
    "print(f(2))\n",
    "print(f(4))"
   ]
  },
  {
   "cell_type": "code",
   "execution_count": null,
   "id": "deab5a72",
   "metadata": {},
   "outputs": [],
   "source": [
    "g = lambda x,y : x*y + x + 10   # x and y are two parameters\n",
    "print(g(2,3))"
   ]
  },
  {
   "cell_type": "markdown",
   "id": "f701eb23",
   "metadata": {},
   "source": [
    "# Generators or lazy functions\n",
    "special type of function that will not evaluate and return all values at once, instead it will return one value at a time, and only when requested"
   ]
  },
  {
   "cell_type": "code",
   "execution_count": null,
   "id": "6ec0a462",
   "metadata": {},
   "outputs": [],
   "source": [
    "for i in range(1,6): print(i)\n",
    "\n",
    "print(list(range(1,10)))"
   ]
  },
  {
   "cell_type": "code",
   "execution_count": null,
   "id": "9fbf9cbf",
   "metadata": {},
   "outputs": [],
   "source": [
    "# creating a generator (use yield instead of return)\n",
    "def squared(data):\n",
    "    for i in data:\n",
    "        yield i**2     # yield stores the result in memory to be used later and don't return a single value\n",
    "        \n",
    "# squared(data=[1,2,3,4]) # this will not give result \n",
    "\n",
    "# this is how we use generator(getting 1 value at a time)\n",
    "for num in squared([2,3,4,5,6]):\n",
    "    print(\"Squared\", num)\n",
    "    \n",
    "# or\n",
    "print(list(squared([22,33,44]))) # this calculates and converts all values to a list"
   ]
  },
  {
   "cell_type": "code",
   "execution_count": null,
   "id": "cbd28c48",
   "metadata": {},
   "outputs": [],
   "source": [
    "def getAcronyms(data =[]):\n",
    "    for name in data:\n",
    "        acronym = \"\".join(name.split())\n",
    "        yield acronym\n",
    "\n",
    "names = [\"sharath\", \"Ghouse\"]\n",
    "list(getAcronyms(names))\n",
    "        "
   ]
  },
  {
   "cell_type": "markdown",
   "id": "2adca08e",
   "metadata": {},
   "source": [
    "### Using functions from user-defined modules\n",
    "In python, you can create your own modules by defining functions in a separate file and then importing"
   ]
  },
  {
   "cell_type": "markdown",
   "id": "cf3d27cd",
   "metadata": {},
   "source": [
    "### four ways to import a module:\n",
    " 1. Import the entire module:\n",
    "    ```\n",
    "    import module_name\n",
    "    ```\n",
    " 2. Import specific functions fromm a module:\n",
    "    ```\n",
    "    from module_name import function1, function2\n",
    "    ```\n",
    " 3. Import all functions from a module:\n",
    "    ```\n",
    "    from module_name import *\n",
    "    ```\n",
    " 4. Import a module with an alias\n",
    "    ```\n",
    "    import module_name as alias\n",
    "    ```\n",
    "\n"
   ]
  },
  {
   "cell_type": "code",
   "execution_count": null,
   "id": "6990fae2",
   "metadata": {},
   "outputs": [],
   "source": [
    "import helper\n"
   ]
  },
  {
   "cell_type": "code",
   "execution_count": null,
   "id": "f1fc1de9",
   "metadata": {},
   "outputs": [],
   "source": [
    "helper.calAreaofCircle(10)"
   ]
  },
  {
   "cell_type": "code",
   "execution_count": null,
   "id": "8f5e2d76",
   "metadata": {},
   "outputs": [],
   "source": [
    "helper.calAreaofCircle(diameter=20)"
   ]
  },
  {
   "cell_type": "code",
   "execution_count": null,
   "id": "fb5167b6",
   "metadata": {},
   "outputs": [],
   "source": [
    "helper.calCircum(10)"
   ]
  },
  {
   "cell_type": "code",
   "execution_count": null,
   "id": "0c3d9c95",
   "metadata": {},
   "outputs": [],
   "source": [
    "a = helper.calAreaofCircle(10)\n",
    "b = helper.calAreaofCircle(diameter=30)\n",
    "c = helper.calCircum(15)\n",
    "print(a, b, c, sep ='\\n')"
   ]
  },
  {
   "cell_type": "code",
   "execution_count": null,
   "id": "240b90a6",
   "metadata": {},
   "outputs": [],
   "source": [
    "import helper               # imports all functions from helper module\n",
    "import helper as h          # imports helper module with an alias h\n",
    "from helper import calAreaofCircle  # imports only specific function\n",
    "from helper import *        # imports all functions with direct module\n"
   ]
  },
  {
   "cell_type": "markdown",
   "id": "76e443c3",
   "metadata": {},
   "source": [
    "### write in detail about the OS module \n",
    "Add examples of all the important functions in the OS function"
   ]
  },
  {
   "cell_type": "markdown",
   "id": "9fffa83c",
   "metadata": {},
   "source": []
  }
 ],
 "metadata": {
  "kernelspec": {
   "display_name": "Python 3",
   "language": "python",
   "name": "python3"
  },
  "language_info": {
   "codemirror_mode": {
    "name": "ipython",
    "version": 3
   },
   "file_extension": ".py",
   "mimetype": "text/x-python",
   "name": "python",
   "nbconvert_exporter": "python",
   "pygments_lexer": "ipython3",
   "version": "3.13.7"
  }
 },
 "nbformat": 4,
 "nbformat_minor": 5
}
