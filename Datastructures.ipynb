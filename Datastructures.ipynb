{
 "cells": [
  {
   "cell_type": "code",
   "execution_count": null,
   "id": "a670b026",
   "metadata": {},
   "outputs": [],
   "source": [
    "my_tuple = (1,2,3)\n",
    "print(my_tuple)\n",
    "\n",
    "#tuple with mixed datatypes\n",
    "tuple = (1, \"HEllo\", 3.4)\n",
    "print(tuple)\n",
    "\n",
    "#nested tuple\n",
    "tuple_new = (\"mouse\", [8,4,6], (1,2,3))\n",
    "print(tuple_new)\n",
    "\n",
    "#tuple packing\n",
    "mytuple = 3, 4.6, \"Apple\"\n",
    "print(mytuple)"
   ]
  },
  {
   "cell_type": "code",
   "execution_count": null,
   "id": "ff1e8384",
   "metadata": {},
   "outputs": [],
   "source": [
    "#Accessing Tuple elements using indexing\n",
    "tuple_new = ('t','u','p','l','e')\n",
    "print(tuple_new[2])\n",
    "\n",
    "#Nested Tuple\n",
    "n_tuple =(\"mouse\", [8,4,6], (1,2,3))\n",
    "print(n_tuple[0][3])\n",
    "print(n_tuple[1][1])"
   ]
  },
  {
   "cell_type": "code",
   "execution_count": null,
   "id": "c0a4f829",
   "metadata": {},
   "outputs": [],
   "source": [
    "#Slicing\n",
    "a = ('e','x','c','a','l','i','b','u','r')\n",
    "print(a[1:4])\n",
    "print(a[:-7])\n",
    "print(a[7:])\n",
    "print(a[:])\n",
    "print(a[::2])"
   ]
  },
  {
   "cell_type": "code",
   "execution_count": null,
   "id": "e3e12cb5",
   "metadata": {},
   "outputs": [],
   "source": [
    "print((1,2,3) + (3,4,5))"
   ]
  },
  {
   "cell_type": "code",
   "execution_count": null,
   "id": "ae517a4c",
   "metadata": {},
   "outputs": [],
   "source": [
    "print((\"Repeat\",) * 3)"
   ]
  },
  {
   "cell_type": "code",
   "execution_count": null,
   "id": "a33cf8d9",
   "metadata": {},
   "outputs": [],
   "source": [
    "b = ('a','p','p','l','e')\n",
    "print(b.count('p'))\n",
    "print(b.index('a'))"
   ]
  },
  {
   "cell_type": "code",
   "execution_count": null,
   "id": "9923a351",
   "metadata": {},
   "outputs": [],
   "source": [
    "fruits = [\"apple\", \"banana\", \"cherry\"]\n",
    "for index, fruit in enumerate(fruits):\n",
    "    print(f\"Index {index}: {fruit}\")"
   ]
  },
  {
   "cell_type": "code",
   "execution_count": null,
   "id": "d53496bc",
   "metadata": {},
   "outputs": [],
   "source": [
    "# Dictionary\n",
    "# 2 ways to store data in Python\n",
    "\n",
    "# 1. List -> indexed based\n",
    "# 2. Dictionary -> key value Pair"
   ]
  },
  {
   "cell_type": "code",
   "execution_count": null,
   "id": "36c414b9",
   "metadata": {},
   "outputs": [],
   "source": [
    "### Creating a dictionary\n",
    "d1 = {} # Empty Dict\n",
    "print(type(d1))\n"
   ]
  },
  {
   "cell_type": "code",
   "execution_count": null,
   "id": "abb92d2b",
   "metadata": {},
   "outputs": [],
   "source": [
    "data = {\n",
    "    'color' : 'orange',\n",
    "    'shape' : 'circle',\n",
    "    'size' : '2 meter',\n",
    "    'material' : 'Plastic'\n",
    "}\n",
    "print(data)"
   ]
  },
  {
   "cell_type": "code",
   "execution_count": null,
   "id": "21e1dfd6",
   "metadata": {},
   "outputs": [],
   "source": [
    "info = {\n",
    "    'fact1' : 'All keys in a dictionary should be unique',\n",
    "    'fact2' : 'Keys are immutable so only strings and tuples are allowed as keys',\n",
    "    'fact3' : 'Value of a key can be of any type -> str, number, list, dict'\n",
    "}\n",
    "print(info)"
   ]
  },
  {
   "cell_type": "code",
   "execution_count": null,
   "id": "ff7e3250",
   "metadata": {},
   "outputs": [],
   "source": [
    "product = {\n",
    "    'name' : 'Mobile',\n",
    "    'price' : 29999,\n",
    "    'features' : {'camera' : '64MP', 'os' : 18, 'RAM' : '16GB'},\n",
    "    'brand' : 'Realme',\n",
    "    'Model' : 'Realme 15 Pro',\n",
    "    'popular' : True,\n",
    "    'value for money' : True,\n",
    "    'colors' : ['Orange', 'Black', 'Blue', 'Red']\n",
    "}\n",
    "print(product)"
   ]
  },
  {
   "cell_type": "code",
   "execution_count": null,
   "id": "0ec4ff79",
   "metadata": {},
   "outputs": [],
   "source": [
    "# getting data from dictionary\n",
    "product['price']"
   ]
  },
  {
   "cell_type": "code",
   "execution_count": null,
   "id": "cfce5080",
   "metadata": {},
   "outputs": [],
   "source": [
    "product['discount'] # error"
   ]
  },
  {
   "cell_type": "code",
   "execution_count": null,
   "id": "398c75fe",
   "metadata": {},
   "outputs": [],
   "source": [
    "product.values() # all the values from dict"
   ]
  },
  {
   "cell_type": "code",
   "execution_count": null,
   "id": "68ef103a",
   "metadata": {},
   "outputs": [],
   "source": [
    "product.keys() # all the keys from dict"
   ]
  },
  {
   "cell_type": "code",
   "execution_count": null,
   "id": "7cec0847",
   "metadata": {},
   "outputs": [],
   "source": [
    "product.items() # key value pairs"
   ]
  },
  {
   "cell_type": "code",
   "execution_count": null,
   "id": "ff29632e",
   "metadata": {},
   "outputs": [],
   "source": [
    "print(product.get('Model'))\n",
    "print(product.get('features'))\n",
    "print(product.get('discont')) # this is not in dict but will not show any error\n"
   ]
  },
  {
   "cell_type": "code",
   "execution_count": null,
   "id": "7bdde8fa",
   "metadata": {},
   "outputs": [],
   "source": [
    "# adding data to a dictionary\n",
    "d1 = {}\n",
    "d1['name'] = \"William Shakespeare\"\n",
    "print(d1)\n",
    "d1['books'] = ['Julias Ceaser', 'Merchant of venice']\n",
    "print(d1)\n",
    "d1['born'] = \"April 1564\"\n",
    "d1['died'] = \"April 1616\"\n",
    "d1['overview'] = '''A English playwright, poet and actor.\n",
    "\"Regarded as the greatest writer in english.'''\n",
    "print(d1)"
   ]
  },
  {
   "cell_type": "code",
   "execution_count": 38,
   "id": "a4c5c54c",
   "metadata": {},
   "outputs": [],
   "source": [
    "contacts = {\n",
    "    'emergency' : 108\n",
    "}"
   ]
  },
  {
   "cell_type": "code",
   "execution_count": null,
   "id": "81fd3595",
   "metadata": {},
   "outputs": [
    {
     "name": "stdout",
     "output_type": "stream",
     "text": [
      "Contact Book\n",
      "Search Contact:\n",
      "Contact found\n",
      "Abv None\n",
      "Bye Bye...\n",
      "{'emergency': 108, 'Abv': '9213019230'}\n"
     ]
    }
   ],
   "source": [
    "# A simple contact book using temp storage (dictionary)\n",
    "\n",
    "\n",
    "print(\"Contact Book\")\n",
    "while True:                                     # infinite loop\n",
    "    print(\"Search Contact:\")\n",
    "    name = input(\"Enter Name:\")\n",
    "    if name in contacts:                        # Searches        \n",
    "        print(\"Contact found\")\n",
    "        print(name, contacts.get(name))       # get the number\n",
    "    else:\n",
    "        print(\"Contact not found\")\n",
    "        ch = input(\"Do you want add it to contacts? y/n\")\n",
    "        if ch == 'y':\n",
    "            num = input(f\"Enter {name}'s number: \")\n",
    "            contacts[name] = num\n",
    "            print(\"Contact Added Successfully!\")\n",
    "        else:\n",
    "            print(\"Okay!\")\n",
    "    quit = input(\"Do you want to continue? y/n\")\n",
    "    if quit != 'y' or quit != 'y':\n",
    "        print(\"Bye Bye...\")\n",
    "        break\n",
    "\n",
    "print(contacts)\n",
    "    "
   ]
  },
  {
   "cell_type": "code",
   "execution_count": null,
   "id": "0a002d1f",
   "metadata": {},
   "outputs": [],
   "source": []
  }
 ],
 "metadata": {
  "kernelspec": {
   "display_name": "Python 3",
   "language": "python",
   "name": "python3"
  },
  "language_info": {
   "codemirror_mode": {
    "name": "ipython",
    "version": 3
   },
   "file_extension": ".py",
   "mimetype": "text/x-python",
   "name": "python",
   "nbconvert_exporter": "python",
   "pygments_lexer": "ipython3",
   "version": "3.13.7"
  }
 },
 "nbformat": 4,
 "nbformat_minor": 5
}
