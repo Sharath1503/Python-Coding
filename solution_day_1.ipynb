{
 "cells": [
  {
   "cell_type": "markdown",
   "id": "6477ab0d",
   "metadata": {},
   "source": [
    "# Problem 1 - Sum of N numbers"
   ]
  },
  {
   "cell_type": "code",
   "execution_count": 3,
   "id": "03f1936f",
   "metadata": {},
   "outputs": [
    {
     "name": "stdout",
     "output_type": "stream",
     "text": [
      "1\n"
     ]
    }
   ],
   "source": [
    "n = []\n",
    "nums = int(input(\"Enter number: \"))\n",
    "s = 0\n",
    "for i in range(nums):\n",
    "    ele = int(input())\n",
    "    n.append(ele)\n",
    "    s = s + ele\n",
    "print(s)\n"
   ]
  },
  {
   "cell_type": "markdown",
   "id": "5b4dc2ca",
   "metadata": {},
   "source": [
    "# Problem 2 - Average of N numbers "
   ]
  },
  {
   "cell_type": "code",
   "execution_count": null,
   "id": "3fdec122",
   "metadata": {},
   "outputs": [],
   "source": [
    "n = []\n",
    "s = 0\n",
    "nums = int(input(\"Enter number: \"))\n",
    "for i in range(nums):\n",
    "    ele = int(input())\n",
    "    n.append(ele)\n",
    "    s = s + ele\n",
    "avg = s / nums\n",
    "print(avg)"
   ]
  },
  {
   "cell_type": "markdown",
   "id": "3e42829e",
   "metadata": {},
   "source": [
    "# Problem 3 - Reverse a String"
   ]
  },
  {
   "cell_type": "code",
   "execution_count": null,
   "id": "56c6e52f",
   "metadata": {},
   "outputs": [],
   "source": [
    "s = input(\"Enter a string: \")\n",
    "rev = s[::-1]\n",
    "print(rev)"
   ]
  },
  {
   "cell_type": "markdown",
   "id": "fac7106d",
   "metadata": {},
   "source": [
    "# Problem 4 - Count Vowels and Consonants"
   ]
  },
  {
   "cell_type": "code",
   "execution_count": null,
   "id": "11a3eaa2",
   "metadata": {},
   "outputs": [],
   "source": [
    "s = input(\"Enter a string: \")\n",
    "vowels = 0\n",
    "consonants = 0\n",
    "for char in s:\n",
    "    if char.lower() in 'aeiou':\n",
    "        vowels += 1\n",
    "    else:\n",
    "        consonants += 1\n",
    "print(\"Vowels:\", vowels)\n",
    "print(\"Consonants:\", consonants)"
   ]
  },
  {
   "cell_type": "markdown",
   "id": "22618385",
   "metadata": {},
   "source": [
    "## Problem 5 — Number palindrome check"
   ]
  },
  {
   "cell_type": "code",
   "execution_count": null,
   "id": "f612b5b5",
   "metadata": {},
   "outputs": [],
   "source": [
    "n = 121\n",
    "n = str(n)\n",
    "if n == n[::-1]:\n",
    "    print(\"Yes\")\n",
    "else:\n",
    "    print(\"No\")"
   ]
  },
  {
   "cell_type": "markdown",
   "id": "a7f2b1ef",
   "metadata": {},
   "source": [
    "## Problem 6 — Left star pyramid"
   ]
  },
  {
   "cell_type": "code",
   "execution_count": null,
   "id": "b248bbf2",
   "metadata": {},
   "outputs": [],
   "source": [
    "n = int(input(\"Enter length of pyramid: \"))\n",
    "for i in range(n+1):\n",
    "    print(\"* \" * i)\n",
    "    "
   ]
  },
  {
   "cell_type": "markdown",
   "id": "763c8256",
   "metadata": {},
   "source": [
    "## Problem 7 — Count digits in a number"
   ]
  },
  {
   "cell_type": "code",
   "execution_count": null,
   "id": "b1299634",
   "metadata": {},
   "outputs": [],
   "source": [
    "n = input(\"Enter Multi digit number: \")\n",
    "print(len(n))"
   ]
  },
  {
   "cell_type": "markdown",
   "id": "47347b9d",
   "metadata": {},
   "source": [
    "## Problem 8 — Factorial"
   ]
  },
  {
   "cell_type": "code",
   "execution_count": null,
   "id": "c62daf10",
   "metadata": {},
   "outputs": [],
   "source": [
    "n = int(input(\"Enter a number: \"))\n",
    "factorial = 1\n",
    "for i in range(1, n+1):\n",
    "    factorial = factorial * i\n",
    "print(factorial)"
   ]
  },
  {
   "cell_type": "markdown",
   "id": "244ffb01",
   "metadata": {},
   "source": [
    "## Problem 9 — Fibonacci"
   ]
  },
  {
   "cell_type": "code",
   "execution_count": null,
   "id": "a256370e",
   "metadata": {},
   "outputs": [],
   "source": [
    "n = int(input(\"Enter any number: \"))\n",
    "a, b = 0, 1\n",
    "if n == 0:\n",
    "    print(a)\n",
    "elif n == 1:\n",
    "    print(b)\n",
    "else:\n",
    "    for i in range(0, n-2):\n",
    "        res = a + b\n",
    "        a = b\n",
    "        b = res\n",
    "    print(res)"
   ]
  },
  {
   "cell_type": "markdown",
   "id": "6a12b5ab",
   "metadata": {},
   "source": [
    "## Problem 10 — Prime check"
   ]
  },
  {
   "cell_type": "code",
   "execution_count": null,
   "id": "b01c34fe",
   "metadata": {},
   "outputs": [],
   "source": [
    "n = int(input(\"Enter a number: \"))\n",
    "if n > 1:\n",
    "    for i in range(2, int(n/2) + 1):\n",
    "        if(n % i) == 0:\n",
    "            print(f\"{n} is not a Prime number\")\n",
    "            break\n",
    "    else:\n",
    "        print(f\"{n} is a prime number\")"
   ]
  },
  {
   "cell_type": "markdown",
   "id": "974442c6",
   "metadata": {},
   "source": [
    "## Problem 11 — Unique list elements"
   ]
  },
  {
   "cell_type": "code",
   "execution_count": null,
   "id": "d1c98b52",
   "metadata": {},
   "outputs": [],
   "source": [
    "n = [12,3,4,3,21,2,2,3,5]\n",
    "unique_list = []\n",
    "for i in n:\n",
    "    if i not in unique_list:\n",
    "        unique_list.append(i)\n",
    "print(unique_list)\n"
   ]
  },
  {
   "cell_type": "markdown",
   "id": "ba946b2f",
   "metadata": {},
   "source": [
    "## Problem 12 — Remove duplicates"
   ]
  },
  {
   "cell_type": "code",
   "execution_count": null,
   "id": "451c4e95",
   "metadata": {},
   "outputs": [],
   "source": [
    "num = [1,2,3,2,11,23,3,44,32,2]\n",
    "unq = set(num)\n",
    "print(unq)"
   ]
  },
  {
   "cell_type": "markdown",
   "id": "37489474",
   "metadata": {},
   "source": [
    "## Problem 13 — Max and Min"
   ]
  },
  {
   "cell_type": "code",
   "execution_count": null,
   "id": "2e04b822",
   "metadata": {},
   "outputs": [],
   "source": [
    "n = [1,2,3,4,543,2,444,5,3,222,2000]\n",
    "print(min(n))\n",
    "print(max(n))"
   ]
  },
  {
   "cell_type": "markdown",
   "id": "59dcb6f2",
   "metadata": {},
   "source": [
    "## Problem 14 — Sort list"
   ]
  },
  {
   "cell_type": "code",
   "execution_count": null,
   "id": "b0e7f5c4",
   "metadata": {},
   "outputs": [],
   "source": [
    "List = [21,3,45,33,56,32,67]\n",
    "sorted = List.sort()\n",
    "print(sorted)\n"
   ]
  },
  {
   "cell_type": "markdown",
   "id": "0633389d",
   "metadata": {},
   "source": [
    "## Problem 15 — Rotate list"
   ]
  },
  {
   "cell_type": "code",
   "execution_count": null,
   "id": "93866869",
   "metadata": {},
   "outputs": [],
   "source": [
    "n = [1,2,3,4,5]\n",
    "rotated = n[2:] + n[:2]\n",
    "print(rotated)"
   ]
  },
  {
   "cell_type": "markdown",
   "id": "3fef3dac",
   "metadata": {},
   "source": [
    "## Problem 16 — Merge sorted lists"
   ]
  },
  {
   "cell_type": "code",
   "execution_count": null,
   "id": "fe10934e",
   "metadata": {},
   "outputs": [],
   "source": [
    "n = [1,2,3,4,5]\n",
    "n1 = [6,7,8,9,10]\n",
    "n2 = n + n1\n",
    "print(sorted(n2))"
   ]
  },
  {
   "cell_type": "markdown",
   "id": "f8b18a1c",
   "metadata": {},
   "source": [
    "## Problem 17 — Intersection"
   ]
  },
  {
   "cell_type": "code",
   "execution_count": 50,
   "id": "73501d6a",
   "metadata": {},
   "outputs": [
    {
     "name": "stdout",
     "output_type": "stream",
     "text": [
      "[1, 2]\n"
     ]
    }
   ],
   "source": [
    "x = [1,2,3]\n",
    "y = [1,2,6]\n",
    "xy = []\n",
    "for i in x:\n",
    "    if i in y:\n",
    "        xy.append(i)\n",
    "print(xy)\n",
    "    \n"
   ]
  },
  {
   "cell_type": "markdown",
   "id": "fefb3841",
   "metadata": {},
   "source": [
    "## Problem 18 — Union"
   ]
  },
  {
   "cell_type": "code",
   "execution_count": null,
   "id": "31d7b9ff",
   "metadata": {},
   "outputs": [
    {
     "name": "stdout",
     "output_type": "stream",
     "text": [
      "[4]\n"
     ]
    }
   ],
   "source": [
    "x = [1,2,3,4]\n",
    "y = [4,5,6,7,8]\n",
    "xy = []\n",
    "for i in x:\n",
    "    if i in y:\n",
    "        xy.append(i)\n",
    "print(xy)"
   ]
  },
  {
   "cell_type": "code",
   "execution_count": null,
   "id": "741ee300",
   "metadata": {},
   "outputs": [],
   "source": []
  }
 ],
 "metadata": {
  "kernelspec": {
   "display_name": "Python 3",
   "language": "python",
   "name": "python3"
  },
  "language_info": {
   "codemirror_mode": {
    "name": "ipython",
    "version": 3
   },
   "file_extension": ".py",
   "mimetype": "text/x-python",
   "name": "python",
   "nbconvert_exporter": "python",
   "pygments_lexer": "ipython3",
   "version": "3.13.7"
  }
 },
 "nbformat": 4,
 "nbformat_minor": 5
}
