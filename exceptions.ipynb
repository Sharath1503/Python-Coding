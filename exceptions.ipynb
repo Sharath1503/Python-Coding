{
 "cells": [
  {
   "cell_type": "markdown",
   "id": "c2f90e38",
   "metadata": {},
   "source": [
    "# Exceptions in python"
   ]
  },
  {
   "cell_type": "code",
   "execution_count": 2,
   "id": "ba057fe7",
   "metadata": {},
   "outputs": [
    {
     "name": "stdout",
     "output_type": "stream",
     "text": [
      "Enter Numerical values\n"
     ]
    }
   ],
   "source": [
    "try:\n",
    "    a = int(input(\"Enter num->\"))\n",
    "    print(a)\n",
    "except:\n",
    "    print(\"Enter Numerical values\")"
   ]
  }
 ],
 "metadata": {
  "kernelspec": {
   "display_name": "Python 3",
   "language": "python",
   "name": "python3"
  },
  "language_info": {
   "codemirror_mode": {
    "name": "ipython",
    "version": 3
   },
   "file_extension": ".py",
   "mimetype": "text/x-python",
   "name": "python",
   "nbconvert_exporter": "python",
   "pygments_lexer": "ipython3",
   "version": "3.13.7"
  }
 },
 "nbformat": 4,
 "nbformat_minor": 5
}
